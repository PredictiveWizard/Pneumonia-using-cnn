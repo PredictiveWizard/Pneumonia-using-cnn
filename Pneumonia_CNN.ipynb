{
  "nbformat": 4,
  "nbformat_minor": 0,
  "metadata": {
    "colab": {
      "provenance": [],
      "gpuType": "T4"
    },
    "kernelspec": {
      "name": "python3",
      "display_name": "Python 3"
    },
    "language_info": {
      "name": "python"
    },
    "accelerator": "GPU"
  },
  "cells": [
    {
      "cell_type": "code",
      "execution_count": 1,
      "metadata": {
        "id": "5xFX3foQIjjo",
        "colab": {
          "base_uri": "https://localhost:8080/"
        },
        "outputId": "d7c89528-f2c0-46c6-d0b1-4d45f3237ccb"
      },
      "outputs": [
        {
          "output_type": "stream",
          "name": "stdout",
          "text": [
            "Mounted at /content/drive\n"
          ]
        }
      ],
      "source": [
        "from google.colab import drive\n",
        "drive.mount('/content/drive')"
      ]
    },
    {
      "cell_type": "code",
      "source": [
        "pip install tensorflow"
      ],
      "metadata": {
        "colab": {
          "base_uri": "https://localhost:8080/"
        },
        "id": "7YdRglGiWZsi",
        "outputId": "a2892986-3e08-472b-f3f8-70b4ad6e4e5b"
      },
      "execution_count": 3,
      "outputs": [
        {
          "output_type": "stream",
          "name": "stdout",
          "text": [
            "Requirement already satisfied: tensorflow in /usr/local/lib/python3.10/dist-packages (2.15.0)\n",
            "Requirement already satisfied: absl-py>=1.0.0 in /usr/local/lib/python3.10/dist-packages (from tensorflow) (1.4.0)\n",
            "Requirement already satisfied: astunparse>=1.6.0 in /usr/local/lib/python3.10/dist-packages (from tensorflow) (1.6.3)\n",
            "Requirement already satisfied: flatbuffers>=23.5.26 in /usr/local/lib/python3.10/dist-packages (from tensorflow) (24.3.25)\n",
            "Requirement already satisfied: gast!=0.5.0,!=0.5.1,!=0.5.2,>=0.2.1 in /usr/local/lib/python3.10/dist-packages (from tensorflow) (0.6.0)\n",
            "Requirement already satisfied: google-pasta>=0.1.1 in /usr/local/lib/python3.10/dist-packages (from tensorflow) (0.2.0)\n",
            "Requirement already satisfied: h5py>=2.9.0 in /usr/local/lib/python3.10/dist-packages (from tensorflow) (3.9.0)\n",
            "Requirement already satisfied: libclang>=13.0.0 in /usr/local/lib/python3.10/dist-packages (from tensorflow) (18.1.1)\n",
            "Requirement already satisfied: ml-dtypes~=0.2.0 in /usr/local/lib/python3.10/dist-packages (from tensorflow) (0.2.0)\n",
            "Requirement already satisfied: numpy<2.0.0,>=1.23.5 in /usr/local/lib/python3.10/dist-packages (from tensorflow) (1.25.2)\n",
            "Requirement already satisfied: opt-einsum>=2.3.2 in /usr/local/lib/python3.10/dist-packages (from tensorflow) (3.3.0)\n",
            "Requirement already satisfied: packaging in /usr/local/lib/python3.10/dist-packages (from tensorflow) (24.1)\n",
            "Requirement already satisfied: protobuf!=4.21.0,!=4.21.1,!=4.21.2,!=4.21.3,!=4.21.4,!=4.21.5,<5.0.0dev,>=3.20.3 in /usr/local/lib/python3.10/dist-packages (from tensorflow) (3.20.3)\n",
            "Requirement already satisfied: setuptools in /usr/local/lib/python3.10/dist-packages (from tensorflow) (67.7.2)\n",
            "Requirement already satisfied: six>=1.12.0 in /usr/local/lib/python3.10/dist-packages (from tensorflow) (1.16.0)\n",
            "Requirement already satisfied: termcolor>=1.1.0 in /usr/local/lib/python3.10/dist-packages (from tensorflow) (2.4.0)\n",
            "Requirement already satisfied: typing-extensions>=3.6.6 in /usr/local/lib/python3.10/dist-packages (from tensorflow) (4.12.2)\n",
            "Requirement already satisfied: wrapt<1.15,>=1.11.0 in /usr/local/lib/python3.10/dist-packages (from tensorflow) (1.14.1)\n",
            "Requirement already satisfied: tensorflow-io-gcs-filesystem>=0.23.1 in /usr/local/lib/python3.10/dist-packages (from tensorflow) (0.37.1)\n",
            "Requirement already satisfied: grpcio<2.0,>=1.24.3 in /usr/local/lib/python3.10/dist-packages (from tensorflow) (1.64.1)\n",
            "Requirement already satisfied: tensorboard<2.16,>=2.15 in /usr/local/lib/python3.10/dist-packages (from tensorflow) (2.15.2)\n",
            "Requirement already satisfied: tensorflow-estimator<2.16,>=2.15.0 in /usr/local/lib/python3.10/dist-packages (from tensorflow) (2.15.0)\n",
            "Requirement already satisfied: keras<2.16,>=2.15.0 in /usr/local/lib/python3.10/dist-packages (from tensorflow) (2.15.0)\n",
            "Requirement already satisfied: wheel<1.0,>=0.23.0 in /usr/local/lib/python3.10/dist-packages (from astunparse>=1.6.0->tensorflow) (0.43.0)\n",
            "Requirement already satisfied: google-auth<3,>=1.6.3 in /usr/local/lib/python3.10/dist-packages (from tensorboard<2.16,>=2.15->tensorflow) (2.27.0)\n",
            "Requirement already satisfied: google-auth-oauthlib<2,>=0.5 in /usr/local/lib/python3.10/dist-packages (from tensorboard<2.16,>=2.15->tensorflow) (1.2.1)\n",
            "Requirement already satisfied: markdown>=2.6.8 in /usr/local/lib/python3.10/dist-packages (from tensorboard<2.16,>=2.15->tensorflow) (3.6)\n",
            "Requirement already satisfied: requests<3,>=2.21.0 in /usr/local/lib/python3.10/dist-packages (from tensorboard<2.16,>=2.15->tensorflow) (2.31.0)\n",
            "Requirement already satisfied: tensorboard-data-server<0.8.0,>=0.7.0 in /usr/local/lib/python3.10/dist-packages (from tensorboard<2.16,>=2.15->tensorflow) (0.7.2)\n",
            "Requirement already satisfied: werkzeug>=1.0.1 in /usr/local/lib/python3.10/dist-packages (from tensorboard<2.16,>=2.15->tensorflow) (3.0.3)\n",
            "Requirement already satisfied: cachetools<6.0,>=2.0.0 in /usr/local/lib/python3.10/dist-packages (from google-auth<3,>=1.6.3->tensorboard<2.16,>=2.15->tensorflow) (5.4.0)\n",
            "Requirement already satisfied: pyasn1-modules>=0.2.1 in /usr/local/lib/python3.10/dist-packages (from google-auth<3,>=1.6.3->tensorboard<2.16,>=2.15->tensorflow) (0.4.0)\n",
            "Requirement already satisfied: rsa<5,>=3.1.4 in /usr/local/lib/python3.10/dist-packages (from google-auth<3,>=1.6.3->tensorboard<2.16,>=2.15->tensorflow) (4.9)\n",
            "Requirement already satisfied: requests-oauthlib>=0.7.0 in /usr/local/lib/python3.10/dist-packages (from google-auth-oauthlib<2,>=0.5->tensorboard<2.16,>=2.15->tensorflow) (1.3.1)\n",
            "Requirement already satisfied: charset-normalizer<4,>=2 in /usr/local/lib/python3.10/dist-packages (from requests<3,>=2.21.0->tensorboard<2.16,>=2.15->tensorflow) (3.3.2)\n",
            "Requirement already satisfied: idna<4,>=2.5 in /usr/local/lib/python3.10/dist-packages (from requests<3,>=2.21.0->tensorboard<2.16,>=2.15->tensorflow) (3.7)\n",
            "Requirement already satisfied: urllib3<3,>=1.21.1 in /usr/local/lib/python3.10/dist-packages (from requests<3,>=2.21.0->tensorboard<2.16,>=2.15->tensorflow) (2.0.7)\n",
            "Requirement already satisfied: certifi>=2017.4.17 in /usr/local/lib/python3.10/dist-packages (from requests<3,>=2.21.0->tensorboard<2.16,>=2.15->tensorflow) (2024.7.4)\n",
            "Requirement already satisfied: MarkupSafe>=2.1.1 in /usr/local/lib/python3.10/dist-packages (from werkzeug>=1.0.1->tensorboard<2.16,>=2.15->tensorflow) (2.1.5)\n",
            "Requirement already satisfied: pyasn1<0.7.0,>=0.4.6 in /usr/local/lib/python3.10/dist-packages (from pyasn1-modules>=0.2.1->google-auth<3,>=1.6.3->tensorboard<2.16,>=2.15->tensorflow) (0.6.0)\n",
            "Requirement already satisfied: oauthlib>=3.0.0 in /usr/local/lib/python3.10/dist-packages (from requests-oauthlib>=0.7.0->google-auth-oauthlib<2,>=0.5->tensorboard<2.16,>=2.15->tensorflow) (3.2.2)\n"
          ]
        }
      ]
    },
    {
      "cell_type": "code",
      "source": [
        "import tensorflow as tf\n",
        "from tensorflow.keras.preprocessing.image import ImageDataGenerator\n",
        "from tensorflow.keras.models import Sequential\n",
        "from tensorflow.keras.layers import Conv2D, MaxPooling2D, Flatten, Dense, Dropout\n",
        "from tensorflow.keras.optimizers import Adam\n",
        "import os"
      ],
      "metadata": {
        "id": "8UL5WOJqVytr"
      },
      "execution_count": 2,
      "outputs": []
    },
    {
      "cell_type": "code",
      "source": [
        "train_dir = '/content/drive/MyDrive/Dataset/train'\n",
        "val_dir = '/content/drive/MyDrive/Dataset/val'\n",
        "test_dir = '/content/drive/MyDrive/Dataset/test'"
      ],
      "metadata": {
        "id": "hPjLqddzWTqR"
      },
      "execution_count": 4,
      "outputs": []
    },
    {
      "cell_type": "code",
      "source": [
        "train_datagen = ImageDataGenerator(\n",
        "    rescale=1./255,\n",
        "    shear_range=0.2,\n",
        "    zoom_range=0.2,\n",
        "    horizontal_flip=True\n",
        ")\n",
        "\n",
        "test_val_datagen = ImageDataGenerator(rescale=1./255)\n",
        "\n",
        "train_generator = train_datagen.flow_from_directory(\n",
        "    train_dir,\n",
        "    target_size=(150, 150),\n",
        "    batch_size=32,\n",
        "    class_mode='binary'\n",
        ")\n",
        "\n",
        "validation_generator = test_val_datagen.flow_from_directory(\n",
        "    val_dir,\n",
        "    target_size=(150, 150),\n",
        "    batch_size=32,\n",
        "    class_mode='binary'\n",
        ")\n",
        "\n",
        "test_generator = test_val_datagen.flow_from_directory(\n",
        "    test_dir,\n",
        "    target_size=(150, 150),\n",
        "    batch_size=32,\n",
        "    class_mode='binary'\n",
        ")"
      ],
      "metadata": {
        "colab": {
          "base_uri": "https://localhost:8080/"
        },
        "id": "qg_c2oNRWlut",
        "outputId": "7b7185cf-a8c7-493e-ed36-6696fb7abe8c"
      },
      "execution_count": 13,
      "outputs": [
        {
          "output_type": "stream",
          "name": "stdout",
          "text": [
            "Found 5226 images belonging to 2 classes.\n",
            "Found 16 images belonging to 2 classes.\n",
            "Found 624 images belonging to 2 classes.\n"
          ]
        }
      ]
    },
    {
      "cell_type": "code",
      "source": [
        "model = Sequential([\n",
        "    Conv2D(32, (3, 3), activation='relu', input_shape=(150, 150, 3)),\n",
        "    MaxPooling2D(pool_size=(2, 2)),\n",
        "\n",
        "    Conv2D(64, (3, 3), activation='relu'),\n",
        "    MaxPooling2D(pool_size=(2, 2)),\n",
        "\n",
        "    Conv2D(128, (3, 3), activation='relu'),\n",
        "    MaxPooling2D(pool_size=(2, 2)),\n",
        "\n",
        "    Flatten(),\n",
        "\n",
        "    Dense(512, activation='relu'),\n",
        "    Dropout(0.5),\n",
        "\n",
        "    Dense(1, activation='sigmoid')\n",
        "])\n",
        "\n",
        "model.compile(optimizer=Adam(learning_rate=0.001),\n",
        "              loss='binary_crossentropy',\n",
        "              metrics=['accuracy'])"
      ],
      "metadata": {
        "id": "ert8zvglWoQu"
      },
      "execution_count": 14,
      "outputs": []
    },
    {
      "cell_type": "code",
      "source": [
        "history = model.fit(\n",
        "    train_generator,\n",
        "    steps_per_epoch=max(1, train_generator.samples // train_generator.batch_size), # Ensure steps_per_epoch is at least 1\n",
        "    epochs=10,\n",
        "    validation_data=validation_generator,\n",
        "    validation_steps=max(1, validation_generator.samples // validation_generator.batch_size) # Ensure validation_steps is at least 1\n",
        ")"
      ],
      "metadata": {
        "colab": {
          "base_uri": "https://localhost:8080/"
        },
        "id": "otXpEH5GXwCT",
        "outputId": "3240589e-285a-4ac3-8961-60be6c9661a8"
      },
      "execution_count": 16,
      "outputs": [
        {
          "output_type": "stream",
          "name": "stdout",
          "text": [
            "Epoch 1/10\n",
            "163/163 [==============================] - 99s 608ms/step - loss: 0.2280 - accuracy: 0.9082 - val_loss: 0.4099 - val_accuracy: 0.8750\n",
            "Epoch 2/10\n",
            "163/163 [==============================] - 96s 588ms/step - loss: 0.2047 - accuracy: 0.9178 - val_loss: 0.5084 - val_accuracy: 0.7500\n",
            "Epoch 3/10\n",
            "163/163 [==============================] - 93s 571ms/step - loss: 0.1893 - accuracy: 0.9234 - val_loss: 0.6351 - val_accuracy: 0.7500\n",
            "Epoch 4/10\n",
            "163/163 [==============================] - 93s 572ms/step - loss: 0.1756 - accuracy: 0.9313 - val_loss: 0.5280 - val_accuracy: 0.7500\n",
            "Epoch 5/10\n",
            "163/163 [==============================] - 94s 577ms/step - loss: 0.1633 - accuracy: 0.9369 - val_loss: 0.4905 - val_accuracy: 0.7500\n",
            "Epoch 6/10\n",
            "163/163 [==============================] - 92s 567ms/step - loss: 0.1647 - accuracy: 0.9376 - val_loss: 0.8288 - val_accuracy: 0.6875\n",
            "Epoch 7/10\n",
            "163/163 [==============================] - 95s 580ms/step - loss: 0.1465 - accuracy: 0.9434 - val_loss: 0.5018 - val_accuracy: 0.8125\n",
            "Epoch 8/10\n",
            "163/163 [==============================] - 103s 635ms/step - loss: 0.1509 - accuracy: 0.9411 - val_loss: 0.6234 - val_accuracy: 0.7500\n",
            "Epoch 9/10\n",
            "163/163 [==============================] - 106s 652ms/step - loss: 0.1558 - accuracy: 0.9395 - val_loss: 1.2445 - val_accuracy: 0.7500\n",
            "Epoch 10/10\n",
            "163/163 [==============================] - 99s 604ms/step - loss: 0.1394 - accuracy: 0.9447 - val_loss: 0.6069 - val_accuracy: 0.6875\n"
          ]
        }
      ]
    },
    {
      "cell_type": "code",
      "source": [
        "# Continue training for an additional 15 epochs\n",
        "history = model.fit(\n",
        "    train_generator,\n",
        "    steps_per_epoch=max(1, train_generator.samples // train_generator.batch_size),\n",
        "    epochs=25,  # Total number of epochs, including the initial 10 and additional 15\n",
        "    initial_epoch=10,  # Continue training from epoch 10\n",
        "    validation_data=validation_generator,\n",
        "    validation_steps=max(1, validation_generator.samples // validation_generator.batch_size)\n",
        ")"
      ],
      "metadata": {
        "colab": {
          "base_uri": "https://localhost:8080/"
        },
        "id": "2BATTBMdYUuO",
        "outputId": "168f2cfb-39fa-46d3-c840-6fba45f201e6"
      },
      "execution_count": 17,
      "outputs": [
        {
          "output_type": "stream",
          "name": "stdout",
          "text": [
            "Epoch 11/25\n",
            "163/163 [==============================] - 96s 588ms/step - loss: 0.1377 - accuracy: 0.9494 - val_loss: 0.4736 - val_accuracy: 0.8125\n",
            "Epoch 12/25\n",
            "163/163 [==============================] - 91s 557ms/step - loss: 0.1196 - accuracy: 0.9526 - val_loss: 0.1885 - val_accuracy: 0.9375\n",
            "Epoch 13/25\n",
            "163/163 [==============================] - 94s 573ms/step - loss: 0.1204 - accuracy: 0.9532 - val_loss: 0.5815 - val_accuracy: 0.7500\n",
            "Epoch 14/25\n",
            "163/163 [==============================] - 92s 562ms/step - loss: 0.1299 - accuracy: 0.9523 - val_loss: 0.5784 - val_accuracy: 0.7500\n",
            "Epoch 15/25\n",
            "163/163 [==============================] - 92s 564ms/step - loss: 0.1146 - accuracy: 0.9551 - val_loss: 0.3944 - val_accuracy: 0.7500\n",
            "Epoch 16/25\n",
            "163/163 [==============================] - 93s 568ms/step - loss: 0.1042 - accuracy: 0.9588 - val_loss: 0.5272 - val_accuracy: 0.8125\n",
            "Epoch 17/25\n",
            "163/163 [==============================] - 92s 567ms/step - loss: 0.1072 - accuracy: 0.9571 - val_loss: 0.9407 - val_accuracy: 0.6875\n",
            "Epoch 18/25\n",
            "163/163 [==============================] - 94s 574ms/step - loss: 0.1062 - accuracy: 0.9609 - val_loss: 0.4248 - val_accuracy: 0.8125\n",
            "Epoch 19/25\n",
            "163/163 [==============================] - 93s 574ms/step - loss: 0.1084 - accuracy: 0.9557 - val_loss: 0.4129 - val_accuracy: 0.8125\n",
            "Epoch 20/25\n",
            "163/163 [==============================] - 89s 548ms/step - loss: 0.1114 - accuracy: 0.9611 - val_loss: 0.5012 - val_accuracy: 0.8125\n",
            "Epoch 21/25\n",
            "163/163 [==============================] - 92s 562ms/step - loss: 0.1015 - accuracy: 0.9586 - val_loss: 0.3772 - val_accuracy: 0.8125\n",
            "Epoch 22/25\n",
            "163/163 [==============================] - 90s 550ms/step - loss: 0.1029 - accuracy: 0.9626 - val_loss: 0.2671 - val_accuracy: 0.8750\n",
            "Epoch 23/25\n",
            "163/163 [==============================] - 89s 545ms/step - loss: 0.1087 - accuracy: 0.9636 - val_loss: 0.3618 - val_accuracy: 0.8125\n",
            "Epoch 24/25\n",
            "163/163 [==============================] - 93s 566ms/step - loss: 0.0951 - accuracy: 0.9630 - val_loss: 0.2888 - val_accuracy: 0.8125\n",
            "Epoch 25/25\n",
            "163/163 [==============================] - 89s 546ms/step - loss: 0.0946 - accuracy: 0.9678 - val_loss: 0.4290 - val_accuracy: 0.8125\n"
          ]
        }
      ]
    },
    {
      "cell_type": "code",
      "source": [
        "test_loss, test_acc = model.evaluate(test_generator, steps=test_generator.samples // test_generator.batch_size)\n",
        "print(f\"Test accuracy: {test_acc}\")"
      ],
      "metadata": {
        "colab": {
          "base_uri": "https://localhost:8080/"
        },
        "id": "1VxJs-a5k5rr",
        "outputId": "ae8a8fc5-f9d9-4e7a-ca75-9951aa683484"
      },
      "execution_count": 18,
      "outputs": [
        {
          "output_type": "stream",
          "name": "stdout",
          "text": [
            "19/19 [==============================] - 134s 7s/step - loss: 0.5001 - accuracy: 0.8799\n",
            "Test accuracy: 0.8799341917037964\n"
          ]
        }
      ]
    },
    {
      "cell_type": "code",
      "source": [
        "# Save the entire model\n",
        "model.save('pneumonia_detection_model.h5')"
      ],
      "metadata": {
        "colab": {
          "base_uri": "https://localhost:8080/"
        },
        "id": "botUCCiLlFrD",
        "outputId": "f121202e-3a89-40af-88c8-80b638cf5030"
      },
      "execution_count": 19,
      "outputs": [
        {
          "output_type": "stream",
          "name": "stderr",
          "text": [
            "/usr/local/lib/python3.10/dist-packages/keras/src/engine/training.py:3103: UserWarning: You are saving your model as an HDF5 file via `model.save()`. This file format is considered legacy. We recommend using instead the native Keras format, e.g. `model.save('my_model.keras')`.\n",
            "  saving_api.save_model(\n"
          ]
        }
      ]
    },
    {
      "cell_type": "code",
      "source": [],
      "metadata": {
        "id": "-0ZALM91mYXk"
      },
      "execution_count": null,
      "outputs": []
    }
  ]
}